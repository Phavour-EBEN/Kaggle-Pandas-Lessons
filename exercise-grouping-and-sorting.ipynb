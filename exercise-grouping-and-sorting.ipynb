{
 "cells": [
  {
   "cell_type": "markdown",
   "id": "63bc196f",
   "metadata": {
    "papermill": {
     "duration": 0.010723,
     "end_time": "2024-05-08T15:09:05.372427",
     "exception": false,
     "start_time": "2024-05-08T15:09:05.361704",
     "status": "completed"
    },
    "tags": []
   },
   "source": [
    "**This notebook is an exercise in the [Pandas](https://www.kaggle.com/learn/pandas) course.  You can reference the tutorial at [this link](https://www.kaggle.com/residentmario/grouping-and-sorting).**\n",
    "\n",
    "---\n"
   ]
  },
  {
   "cell_type": "markdown",
   "id": "b3f39d81",
   "metadata": {
    "papermill": {
     "duration": 0.008415,
     "end_time": "2024-05-08T15:09:05.390361",
     "exception": false,
     "start_time": "2024-05-08T15:09:05.381946",
     "status": "completed"
    },
    "tags": []
   },
   "source": [
    "# Introduction\n",
    "\n",
    "In these exercises we'll apply groupwise analysis to our dataset.\n",
    "\n",
    "Run the code cell below to load the data before running the exercises."
   ]
  },
  {
   "cell_type": "code",
   "execution_count": 1,
   "id": "9080a045",
   "metadata": {
    "execution": {
     "iopub.execute_input": "2024-05-08T15:09:05.409266Z",
     "iopub.status.busy": "2024-05-08T15:09:05.408850Z",
     "iopub.status.idle": "2024-05-08T15:09:10.442909Z",
     "shell.execute_reply": "2024-05-08T15:09:10.441708Z"
    },
    "papermill": {
     "duration": 5.048125,
     "end_time": "2024-05-08T15:09:10.446959",
     "exception": false,
     "start_time": "2024-05-08T15:09:05.398834",
     "status": "completed"
    },
    "tags": []
   },
   "outputs": [
    {
     "name": "stdout",
     "output_type": "stream",
     "text": [
      "Setup complete.\n"
     ]
    },
    {
     "name": "stderr",
     "output_type": "stream",
     "text": [
      "/opt/conda/lib/python3.10/site-packages/learntools/pandas/grouping_and_sorting.py:29: FutureWarning: The provided callable <built-in function min> is currently using SeriesGroupBy.min. In a future version of pandas, the provided callable will be used directly. To keep current behavior pass the string \"min\" instead.\n",
      "  _expected = reviews.groupby('variety').price.agg([min, max])\n",
      "/opt/conda/lib/python3.10/site-packages/learntools/pandas/grouping_and_sorting.py:29: FutureWarning: The provided callable <built-in function max> is currently using SeriesGroupBy.max. In a future version of pandas, the provided callable will be used directly. To keep current behavior pass the string \"max\" instead.\n",
      "  _expected = reviews.groupby('variety').price.agg([min, max])\n",
      "/opt/conda/lib/python3.10/site-packages/learntools/pandas/grouping_and_sorting.py:35: FutureWarning: The provided callable <built-in function min> is currently using SeriesGroupBy.min. In a future version of pandas, the provided callable will be used directly. To keep current behavior pass the string \"min\" instead.\n",
      "  _expected = reviews.groupby('variety').price.agg([min, max]).sort_values(by=['min', 'max'], ascending=False)\n",
      "/opt/conda/lib/python3.10/site-packages/learntools/pandas/grouping_and_sorting.py:35: FutureWarning: The provided callable <built-in function max> is currently using SeriesGroupBy.max. In a future version of pandas, the provided callable will be used directly. To keep current behavior pass the string \"max\" instead.\n",
      "  _expected = reviews.groupby('variety').price.agg([min, max]).sort_values(by=['min', 'max'], ascending=False)\n"
     ]
    }
   ],
   "source": [
    "import pandas as pd\n",
    "\n",
    "reviews = pd.read_csv(\"../input/wine-reviews/winemag-data-130k-v2.csv\", index_col=0)\n",
    "#pd.set_option(\"display.max_rows\", 5)\n",
    "\n",
    "from learntools.core import binder; binder.bind(globals())\n",
    "from learntools.pandas.grouping_and_sorting import *\n",
    "print(\"Setup complete.\")"
   ]
  },
  {
   "cell_type": "markdown",
   "id": "bc933434",
   "metadata": {
    "papermill": {
     "duration": 0.008899,
     "end_time": "2024-05-08T15:09:10.465351",
     "exception": false,
     "start_time": "2024-05-08T15:09:10.456452",
     "status": "completed"
    },
    "tags": []
   },
   "source": [
    "# Exercises"
   ]
  },
  {
   "cell_type": "markdown",
   "id": "e52df627",
   "metadata": {
    "papermill": {
     "duration": 0.008431,
     "end_time": "2024-05-08T15:09:10.482777",
     "exception": false,
     "start_time": "2024-05-08T15:09:10.474346",
     "status": "completed"
    },
    "tags": []
   },
   "source": [
    "## 1.\n",
    "Who are the most common wine reviewers in the dataset? Create a `Series` whose index is the `taster_twitter_handle` category from the dataset, and whose values count how many reviews each person wrote."
   ]
  },
  {
   "cell_type": "code",
   "execution_count": 2,
   "id": "8a02de1b",
   "metadata": {
    "execution": {
     "iopub.execute_input": "2024-05-08T15:09:10.502384Z",
     "iopub.status.busy": "2024-05-08T15:09:10.501965Z",
     "iopub.status.idle": "2024-05-08T15:09:10.537568Z",
     "shell.execute_reply": "2024-05-08T15:09:10.536469Z"
    },
    "papermill": {
     "duration": 0.048247,
     "end_time": "2024-05-08T15:09:10.539882",
     "exception": false,
     "start_time": "2024-05-08T15:09:10.491635",
     "status": "completed"
    },
    "tags": []
   },
   "outputs": [
    {
     "data": {
      "application/javascript": [
       "parent.postMessage({\"jupyterEvent\": \"custom.exercise_interaction\", \"data\": {\"outcomeType\": 1, \"valueTowardsCompletion\": 0.16666666666666666, \"interactionType\": 1, \"questionType\": 1, \"questionId\": \"1_ReviewsWritten\", \"learnToolsVersion\": \"0.3.4\", \"failureMessage\": \"\", \"exceptionClass\": \"\", \"trace\": \"\"}}, \"*\")"
      ],
      "text/plain": [
       "<IPython.core.display.Javascript object>"
      ]
     },
     "metadata": {},
     "output_type": "display_data"
    },
    {
     "data": {
      "text/markdown": [
       "<span style=\"color:#33cc33\">Correct:</span> \n",
       "\n",
       "\n",
       "```python\n",
       "reviews_written = reviews.groupby('taster_twitter_handle').size()\n",
       "```\n",
       "or\n",
       "```python\n",
       "reviews_written = reviews.groupby('taster_twitter_handle').taster_twitter_handle.count()\n",
       "```\n"
      ],
      "text/plain": [
       "Correct: \n",
       "\n",
       "\n",
       "```python\n",
       "reviews_written = reviews.groupby('taster_twitter_handle').size()\n",
       "```\n",
       "or\n",
       "```python\n",
       "reviews_written = reviews.groupby('taster_twitter_handle').taster_twitter_handle.count()\n",
       "```"
      ]
     },
     "metadata": {},
     "output_type": "display_data"
    }
   ],
   "source": [
    "# Your code here\n",
    "reviews_written = reviews.groupby(\"taster_twitter_handle\").size()\n",
    "\n",
    "# Check your answer\n",
    "q1.check()"
   ]
  },
  {
   "cell_type": "code",
   "execution_count": 3,
   "id": "c7d3b825",
   "metadata": {
    "execution": {
     "iopub.execute_input": "2024-05-08T15:09:10.560052Z",
     "iopub.status.busy": "2024-05-08T15:09:10.559644Z",
     "iopub.status.idle": "2024-05-08T15:09:10.566996Z",
     "shell.execute_reply": "2024-05-08T15:09:10.566201Z"
    },
    "papermill": {
     "duration": 0.020253,
     "end_time": "2024-05-08T15:09:10.569207",
     "exception": false,
     "start_time": "2024-05-08T15:09:10.548954",
     "status": "completed"
    },
    "tags": []
   },
   "outputs": [
    {
     "data": {
      "application/javascript": [
       "parent.postMessage({\"jupyterEvent\": \"custom.exercise_interaction\", \"data\": {\"interactionType\": 2, \"questionType\": 1, \"questionId\": \"1_ReviewsWritten\", \"learnToolsVersion\": \"0.3.4\", \"valueTowardsCompletion\": 0.0, \"failureMessage\": \"\", \"exceptionClass\": \"\", \"trace\": \"\", \"outcomeType\": 4}}, \"*\")"
      ],
      "text/plain": [
       "<IPython.core.display.Javascript object>"
      ]
     },
     "metadata": {},
     "output_type": "display_data"
    },
    {
     "data": {
      "text/markdown": [
       "<span style=\"color:#3366cc\">Hint:</span> Use the `groupby` operation and `size()` (or `count()`)."
      ],
      "text/plain": [
       "Hint: Use the `groupby` operation and `size()` (or `count()`)."
      ]
     },
     "metadata": {},
     "output_type": "display_data"
    }
   ],
   "source": [
    "q1.hint()\n",
    "#q1.solution()"
   ]
  },
  {
   "cell_type": "markdown",
   "id": "6740c257",
   "metadata": {
    "papermill": {
     "duration": 0.01245,
     "end_time": "2024-05-08T15:09:10.591073",
     "exception": false,
     "start_time": "2024-05-08T15:09:10.578623",
     "status": "completed"
    },
    "tags": []
   },
   "source": [
    "## 2.\n",
    "What is the best wine I can buy for a given amount of money? Create a `Series` whose index is wine prices and whose values is the maximum number of points a wine costing that much was given in a review. Sort the values by price, ascending (so that `4.0` dollars is at the top and `3300.0` dollars is at the bottom)."
   ]
  },
  {
   "cell_type": "code",
   "execution_count": 4,
   "id": "5376946d",
   "metadata": {
    "execution": {
     "iopub.execute_input": "2024-05-08T15:09:10.612749Z",
     "iopub.status.busy": "2024-05-08T15:09:10.611768Z",
     "iopub.status.idle": "2024-05-08T15:09:10.626558Z",
     "shell.execute_reply": "2024-05-08T15:09:10.625397Z"
    },
    "papermill": {
     "duration": 0.028348,
     "end_time": "2024-05-08T15:09:10.628874",
     "exception": false,
     "start_time": "2024-05-08T15:09:10.600526",
     "status": "completed"
    },
    "tags": []
   },
   "outputs": [
    {
     "data": {
      "application/javascript": [
       "parent.postMessage({\"jupyterEvent\": \"custom.exercise_interaction\", \"data\": {\"outcomeType\": 1, \"valueTowardsCompletion\": 0.16666666666666666, \"interactionType\": 1, \"questionType\": 1, \"questionId\": \"2_BestRatingPerPrice\", \"learnToolsVersion\": \"0.3.4\", \"failureMessage\": \"\", \"exceptionClass\": \"\", \"trace\": \"\"}}, \"*\")"
      ],
      "text/plain": [
       "<IPython.core.display.Javascript object>"
      ]
     },
     "metadata": {},
     "output_type": "display_data"
    },
    {
     "data": {
      "text/markdown": [
       "<span style=\"color:#33cc33\">Correct</span>"
      ],
      "text/plain": [
       "Correct"
      ]
     },
     "metadata": {},
     "output_type": "display_data"
    }
   ],
   "source": [
    "best_rating_per_price = reviews.groupby(\"price\")[\"points\"].max().sort_index(ascending=True)\n",
    "\n",
    "# Check your answer\n",
    "q2.check()"
   ]
  },
  {
   "cell_type": "code",
   "execution_count": 5,
   "id": "66ccbbb4",
   "metadata": {
    "execution": {
     "iopub.execute_input": "2024-05-08T15:09:10.650109Z",
     "iopub.status.busy": "2024-05-08T15:09:10.649699Z",
     "iopub.status.idle": "2024-05-08T15:09:10.660522Z",
     "shell.execute_reply": "2024-05-08T15:09:10.659538Z"
    },
    "papermill": {
     "duration": 0.024182,
     "end_time": "2024-05-08T15:09:10.662849",
     "exception": false,
     "start_time": "2024-05-08T15:09:10.638667",
     "status": "completed"
    },
    "tags": []
   },
   "outputs": [
    {
     "data": {
      "application/javascript": [
       "parent.postMessage({\"jupyterEvent\": \"custom.exercise_interaction\", \"data\": {\"interactionType\": 2, \"questionType\": 1, \"questionId\": \"2_BestRatingPerPrice\", \"learnToolsVersion\": \"0.3.4\", \"valueTowardsCompletion\": 0.0, \"failureMessage\": \"\", \"exceptionClass\": \"\", \"trace\": \"\", \"outcomeType\": 4}}, \"*\")"
      ],
      "text/plain": [
       "<IPython.core.display.Javascript object>"
      ]
     },
     "metadata": {},
     "output_type": "display_data"
    },
    {
     "data": {
      "text/markdown": [
       "<span style=\"color:#3366cc\">Hint:</span> Use `max()` and `sort_index()`.  The relevant columns in the DataFrame are `price` and `points`."
      ],
      "text/plain": [
       "Hint: Use `max()` and `sort_index()`.  The relevant columns in the DataFrame are `price` and `points`."
      ]
     },
     "metadata": {},
     "output_type": "display_data"
    }
   ],
   "source": [
    "q2.hint()\n",
    "#q2.solution()"
   ]
  },
  {
   "cell_type": "markdown",
   "id": "cfbde1a7",
   "metadata": {
    "papermill": {
     "duration": 0.009824,
     "end_time": "2024-05-08T15:09:10.682904",
     "exception": false,
     "start_time": "2024-05-08T15:09:10.673080",
     "status": "completed"
    },
    "tags": []
   },
   "source": [
    "## 3.\n",
    "What are the minimum and maximum prices for each `variety` of wine? Create a `DataFrame` whose index is the `variety` category from the dataset and whose values are the `min` and `max` values thereof."
   ]
  },
  {
   "cell_type": "code",
   "execution_count": 6,
   "id": "6ec5bad1",
   "metadata": {
    "execution": {
     "iopub.execute_input": "2024-05-08T15:09:10.708328Z",
     "iopub.status.busy": "2024-05-08T15:09:10.707830Z",
     "iopub.status.idle": "2024-05-08T15:09:10.758295Z",
     "shell.execute_reply": "2024-05-08T15:09:10.757171Z"
    },
    "papermill": {
     "duration": 0.06774,
     "end_time": "2024-05-08T15:09:10.762309",
     "exception": false,
     "start_time": "2024-05-08T15:09:10.694569",
     "status": "completed"
    },
    "tags": []
   },
   "outputs": [
    {
     "name": "stderr",
     "output_type": "stream",
     "text": [
      "/tmp/ipykernel_18/1100060952.py:1: FutureWarning: The provided callable <built-in function min> is currently using SeriesGroupBy.min. In a future version of pandas, the provided callable will be used directly. To keep current behavior pass the string \"min\" instead.\n",
      "  price_extremes = reviews.groupby(\"variety\").price.agg([min,max])\n",
      "/tmp/ipykernel_18/1100060952.py:1: FutureWarning: The provided callable <built-in function max> is currently using SeriesGroupBy.max. In a future version of pandas, the provided callable will be used directly. To keep current behavior pass the string \"max\" instead.\n",
      "  price_extremes = reviews.groupby(\"variety\").price.agg([min,max])\n"
     ]
    },
    {
     "data": {
      "application/javascript": [
       "parent.postMessage({\"jupyterEvent\": \"custom.exercise_interaction\", \"data\": {\"outcomeType\": 1, \"valueTowardsCompletion\": 0.16666666666666666, \"interactionType\": 1, \"questionType\": 1, \"questionId\": \"3_PriceExtremes\", \"learnToolsVersion\": \"0.3.4\", \"failureMessage\": \"\", \"exceptionClass\": \"\", \"trace\": \"\"}}, \"*\")"
      ],
      "text/plain": [
       "<IPython.core.display.Javascript object>"
      ]
     },
     "metadata": {},
     "output_type": "display_data"
    },
    {
     "data": {
      "text/markdown": [
       "<span style=\"color:#33cc33\">Correct</span>"
      ],
      "text/plain": [
       "Correct"
      ]
     },
     "metadata": {},
     "output_type": "display_data"
    }
   ],
   "source": [
    "price_extremes = reviews.groupby(\"variety\").price.agg([min,max])\n",
    "\n",
    "# Check your answer\n",
    "q3.check()"
   ]
  },
  {
   "cell_type": "code",
   "execution_count": 7,
   "id": "425cd030",
   "metadata": {
    "execution": {
     "iopub.execute_input": "2024-05-08T15:09:10.785444Z",
     "iopub.status.busy": "2024-05-08T15:09:10.785047Z",
     "iopub.status.idle": "2024-05-08T15:09:10.793566Z",
     "shell.execute_reply": "2024-05-08T15:09:10.792748Z"
    },
    "papermill": {
     "duration": 0.022864,
     "end_time": "2024-05-08T15:09:10.795988",
     "exception": false,
     "start_time": "2024-05-08T15:09:10.773124",
     "status": "completed"
    },
    "tags": []
   },
   "outputs": [
    {
     "data": {
      "application/javascript": [
       "parent.postMessage({\"jupyterEvent\": \"custom.exercise_interaction\", \"data\": {\"interactionType\": 2, \"questionType\": 1, \"questionId\": \"3_PriceExtremes\", \"learnToolsVersion\": \"0.3.4\", \"valueTowardsCompletion\": 0.0, \"failureMessage\": \"\", \"exceptionClass\": \"\", \"trace\": \"\", \"outcomeType\": 4}}, \"*\")"
      ],
      "text/plain": [
       "<IPython.core.display.Javascript object>"
      ]
     },
     "metadata": {},
     "output_type": "display_data"
    },
    {
     "data": {
      "text/markdown": [
       "<span style=\"color:#3366cc\">Hint:</span> Use `agg()`."
      ],
      "text/plain": [
       "Hint: Use `agg()`."
      ]
     },
     "metadata": {},
     "output_type": "display_data"
    }
   ],
   "source": [
    "q3.hint()\n",
    "# q3.solution()"
   ]
  },
  {
   "cell_type": "markdown",
   "id": "e6420aec",
   "metadata": {
    "papermill": {
     "duration": 0.010722,
     "end_time": "2024-05-08T15:09:10.817526",
     "exception": false,
     "start_time": "2024-05-08T15:09:10.806804",
     "status": "completed"
    },
    "tags": []
   },
   "source": [
    "## 4.\n",
    "What are the most expensive wine varieties? Create a variable `sorted_varieties` containing a copy of the dataframe from the previous question where varieties are sorted in descending order based on minimum price, then on maximum price (to break ties)."
   ]
  },
  {
   "cell_type": "code",
   "execution_count": 8,
   "id": "b9774ffd",
   "metadata": {
    "execution": {
     "iopub.execute_input": "2024-05-08T15:09:10.841458Z",
     "iopub.status.busy": "2024-05-08T15:09:10.840746Z",
     "iopub.status.idle": "2024-05-08T15:09:10.851717Z",
     "shell.execute_reply": "2024-05-08T15:09:10.850566Z"
    },
    "papermill": {
     "duration": 0.025863,
     "end_time": "2024-05-08T15:09:10.854259",
     "exception": false,
     "start_time": "2024-05-08T15:09:10.828396",
     "status": "completed"
    },
    "tags": []
   },
   "outputs": [
    {
     "data": {
      "application/javascript": [
       "parent.postMessage({\"jupyterEvent\": \"custom.exercise_interaction\", \"data\": {\"outcomeType\": 1, \"valueTowardsCompletion\": 0.16666666666666666, \"interactionType\": 1, \"questionType\": 1, \"questionId\": \"4_SortedVarieties\", \"learnToolsVersion\": \"0.3.4\", \"failureMessage\": \"\", \"exceptionClass\": \"\", \"trace\": \"\"}}, \"*\")"
      ],
      "text/plain": [
       "<IPython.core.display.Javascript object>"
      ]
     },
     "metadata": {},
     "output_type": "display_data"
    },
    {
     "data": {
      "text/markdown": [
       "<span style=\"color:#33cc33\">Correct</span>"
      ],
      "text/plain": [
       "Correct"
      ]
     },
     "metadata": {},
     "output_type": "display_data"
    }
   ],
   "source": [
    "sorted_varieties = price_extremes.sort_values(by=['min', 'max'], ascending=False)\n",
    "\n",
    "# Check your answer\n",
    "q4.check()"
   ]
  },
  {
   "cell_type": "code",
   "execution_count": 9,
   "id": "49cb33d0",
   "metadata": {
    "execution": {
     "iopub.execute_input": "2024-05-08T15:09:10.882761Z",
     "iopub.status.busy": "2024-05-08T15:09:10.881918Z",
     "iopub.status.idle": "2024-05-08T15:09:10.890986Z",
     "shell.execute_reply": "2024-05-08T15:09:10.890040Z"
    },
    "papermill": {
     "duration": 0.026829,
     "end_time": "2024-05-08T15:09:10.893349",
     "exception": false,
     "start_time": "2024-05-08T15:09:10.866520",
     "status": "completed"
    },
    "tags": []
   },
   "outputs": [
    {
     "data": {
      "application/javascript": [
       "parent.postMessage({\"jupyterEvent\": \"custom.exercise_interaction\", \"data\": {\"interactionType\": 2, \"questionType\": 1, \"questionId\": \"4_SortedVarieties\", \"learnToolsVersion\": \"0.3.4\", \"valueTowardsCompletion\": 0.0, \"failureMessage\": \"\", \"exceptionClass\": \"\", \"trace\": \"\", \"outcomeType\": 4}}, \"*\")"
      ],
      "text/plain": [
       "<IPython.core.display.Javascript object>"
      ]
     },
     "metadata": {},
     "output_type": "display_data"
    },
    {
     "data": {
      "text/markdown": [
       "<span style=\"color:#3366cc\">Hint:</span> Use `sort_values()`, and provide a list of names to sort by."
      ],
      "text/plain": [
       "Hint: Use `sort_values()`, and provide a list of names to sort by."
      ]
     },
     "metadata": {},
     "output_type": "display_data"
    }
   ],
   "source": [
    "q4.hint()\n",
    "#q4.solution()"
   ]
  },
  {
   "cell_type": "code",
   "execution_count": 10,
   "id": "bb200b52",
   "metadata": {
    "execution": {
     "iopub.execute_input": "2024-05-08T15:09:10.924405Z",
     "iopub.status.busy": "2024-05-08T15:09:10.923725Z",
     "iopub.status.idle": "2024-05-08T15:09:10.962083Z",
     "shell.execute_reply": "2024-05-08T15:09:10.960672Z"
    },
    "papermill": {
     "duration": 0.059365,
     "end_time": "2024-05-08T15:09:10.967342",
     "exception": false,
     "start_time": "2024-05-08T15:09:10.907977",
     "status": "completed"
    },
    "tags": []
   },
   "outputs": [
    {
     "data": {
      "text/html": [
       "<div>\n",
       "<style scoped>\n",
       "    .dataframe tbody tr th:only-of-type {\n",
       "        vertical-align: middle;\n",
       "    }\n",
       "\n",
       "    .dataframe tbody tr th {\n",
       "        vertical-align: top;\n",
       "    }\n",
       "\n",
       "    .dataframe thead th {\n",
       "        text-align: right;\n",
       "    }\n",
       "</style>\n",
       "<table border=\"1\" class=\"dataframe\">\n",
       "  <thead>\n",
       "    <tr style=\"text-align: right;\">\n",
       "      <th></th>\n",
       "      <th>country</th>\n",
       "      <th>description</th>\n",
       "      <th>designation</th>\n",
       "      <th>points</th>\n",
       "      <th>price</th>\n",
       "      <th>province</th>\n",
       "      <th>region_1</th>\n",
       "      <th>region_2</th>\n",
       "      <th>taster_name</th>\n",
       "      <th>taster_twitter_handle</th>\n",
       "      <th>title</th>\n",
       "      <th>variety</th>\n",
       "      <th>winery</th>\n",
       "    </tr>\n",
       "  </thead>\n",
       "  <tbody>\n",
       "    <tr>\n",
       "      <th>0</th>\n",
       "      <td>Italy</td>\n",
       "      <td>Aromas include tropical fruit, broom, brimston...</td>\n",
       "      <td>Vulkà Bianco</td>\n",
       "      <td>87</td>\n",
       "      <td>NaN</td>\n",
       "      <td>Sicily &amp; Sardinia</td>\n",
       "      <td>Etna</td>\n",
       "      <td>NaN</td>\n",
       "      <td>Kerin O’Keefe</td>\n",
       "      <td>@kerinokeefe</td>\n",
       "      <td>Nicosia 2013 Vulkà Bianco  (Etna)</td>\n",
       "      <td>White Blend</td>\n",
       "      <td>Nicosia</td>\n",
       "    </tr>\n",
       "    <tr>\n",
       "      <th>1</th>\n",
       "      <td>Portugal</td>\n",
       "      <td>This is ripe and fruity, a wine that is smooth...</td>\n",
       "      <td>Avidagos</td>\n",
       "      <td>87</td>\n",
       "      <td>15.0</td>\n",
       "      <td>Douro</td>\n",
       "      <td>NaN</td>\n",
       "      <td>NaN</td>\n",
       "      <td>Roger Voss</td>\n",
       "      <td>@vossroger</td>\n",
       "      <td>Quinta dos Avidagos 2011 Avidagos Red (Douro)</td>\n",
       "      <td>Portuguese Red</td>\n",
       "      <td>Quinta dos Avidagos</td>\n",
       "    </tr>\n",
       "    <tr>\n",
       "      <th>2</th>\n",
       "      <td>US</td>\n",
       "      <td>Tart and snappy, the flavors of lime flesh and...</td>\n",
       "      <td>NaN</td>\n",
       "      <td>87</td>\n",
       "      <td>14.0</td>\n",
       "      <td>Oregon</td>\n",
       "      <td>Willamette Valley</td>\n",
       "      <td>Willamette Valley</td>\n",
       "      <td>Paul Gregutt</td>\n",
       "      <td>@paulgwine</td>\n",
       "      <td>Rainstorm 2013 Pinot Gris (Willamette Valley)</td>\n",
       "      <td>Pinot Gris</td>\n",
       "      <td>Rainstorm</td>\n",
       "    </tr>\n",
       "    <tr>\n",
       "      <th>3</th>\n",
       "      <td>US</td>\n",
       "      <td>Pineapple rind, lemon pith and orange blossom ...</td>\n",
       "      <td>Reserve Late Harvest</td>\n",
       "      <td>87</td>\n",
       "      <td>13.0</td>\n",
       "      <td>Michigan</td>\n",
       "      <td>Lake Michigan Shore</td>\n",
       "      <td>NaN</td>\n",
       "      <td>Alexander Peartree</td>\n",
       "      <td>NaN</td>\n",
       "      <td>St. Julian 2013 Reserve Late Harvest Riesling ...</td>\n",
       "      <td>Riesling</td>\n",
       "      <td>St. Julian</td>\n",
       "    </tr>\n",
       "    <tr>\n",
       "      <th>4</th>\n",
       "      <td>US</td>\n",
       "      <td>Much like the regular bottling from 2012, this...</td>\n",
       "      <td>Vintner's Reserve Wild Child Block</td>\n",
       "      <td>87</td>\n",
       "      <td>65.0</td>\n",
       "      <td>Oregon</td>\n",
       "      <td>Willamette Valley</td>\n",
       "      <td>Willamette Valley</td>\n",
       "      <td>Paul Gregutt</td>\n",
       "      <td>@paulgwine</td>\n",
       "      <td>Sweet Cheeks 2012 Vintner's Reserve Wild Child...</td>\n",
       "      <td>Pinot Noir</td>\n",
       "      <td>Sweet Cheeks</td>\n",
       "    </tr>\n",
       "    <tr>\n",
       "      <th>...</th>\n",
       "      <td>...</td>\n",
       "      <td>...</td>\n",
       "      <td>...</td>\n",
       "      <td>...</td>\n",
       "      <td>...</td>\n",
       "      <td>...</td>\n",
       "      <td>...</td>\n",
       "      <td>...</td>\n",
       "      <td>...</td>\n",
       "      <td>...</td>\n",
       "      <td>...</td>\n",
       "      <td>...</td>\n",
       "      <td>...</td>\n",
       "    </tr>\n",
       "    <tr>\n",
       "      <th>129966</th>\n",
       "      <td>Germany</td>\n",
       "      <td>Notes of honeysuckle and cantaloupe sweeten th...</td>\n",
       "      <td>Brauneberger Juffer-Sonnenuhr Spätlese</td>\n",
       "      <td>90</td>\n",
       "      <td>28.0</td>\n",
       "      <td>Mosel</td>\n",
       "      <td>NaN</td>\n",
       "      <td>NaN</td>\n",
       "      <td>Anna Lee C. Iijima</td>\n",
       "      <td>NaN</td>\n",
       "      <td>Dr. H. Thanisch (Erben Müller-Burggraef) 2013 ...</td>\n",
       "      <td>Riesling</td>\n",
       "      <td>Dr. H. Thanisch (Erben Müller-Burggraef)</td>\n",
       "    </tr>\n",
       "    <tr>\n",
       "      <th>129967</th>\n",
       "      <td>US</td>\n",
       "      <td>Citation is given as much as a decade of bottl...</td>\n",
       "      <td>NaN</td>\n",
       "      <td>90</td>\n",
       "      <td>75.0</td>\n",
       "      <td>Oregon</td>\n",
       "      <td>Oregon</td>\n",
       "      <td>Oregon Other</td>\n",
       "      <td>Paul Gregutt</td>\n",
       "      <td>@paulgwine</td>\n",
       "      <td>Citation 2004 Pinot Noir (Oregon)</td>\n",
       "      <td>Pinot Noir</td>\n",
       "      <td>Citation</td>\n",
       "    </tr>\n",
       "    <tr>\n",
       "      <th>129968</th>\n",
       "      <td>France</td>\n",
       "      <td>Well-drained gravel soil gives this wine its c...</td>\n",
       "      <td>Kritt</td>\n",
       "      <td>90</td>\n",
       "      <td>30.0</td>\n",
       "      <td>Alsace</td>\n",
       "      <td>Alsace</td>\n",
       "      <td>NaN</td>\n",
       "      <td>Roger Voss</td>\n",
       "      <td>@vossroger</td>\n",
       "      <td>Domaine Gresser 2013 Kritt Gewurztraminer (Als...</td>\n",
       "      <td>Gewürztraminer</td>\n",
       "      <td>Domaine Gresser</td>\n",
       "    </tr>\n",
       "    <tr>\n",
       "      <th>129969</th>\n",
       "      <td>France</td>\n",
       "      <td>A dry style of Pinot Gris, this is crisp with ...</td>\n",
       "      <td>NaN</td>\n",
       "      <td>90</td>\n",
       "      <td>32.0</td>\n",
       "      <td>Alsace</td>\n",
       "      <td>Alsace</td>\n",
       "      <td>NaN</td>\n",
       "      <td>Roger Voss</td>\n",
       "      <td>@vossroger</td>\n",
       "      <td>Domaine Marcel Deiss 2012 Pinot Gris (Alsace)</td>\n",
       "      <td>Pinot Gris</td>\n",
       "      <td>Domaine Marcel Deiss</td>\n",
       "    </tr>\n",
       "    <tr>\n",
       "      <th>129970</th>\n",
       "      <td>France</td>\n",
       "      <td>Big, rich and off-dry, this is powered by inte...</td>\n",
       "      <td>Lieu-dit Harth Cuvée Caroline</td>\n",
       "      <td>90</td>\n",
       "      <td>21.0</td>\n",
       "      <td>Alsace</td>\n",
       "      <td>Alsace</td>\n",
       "      <td>NaN</td>\n",
       "      <td>Roger Voss</td>\n",
       "      <td>@vossroger</td>\n",
       "      <td>Domaine Schoffit 2012 Lieu-dit Harth Cuvée Car...</td>\n",
       "      <td>Gewürztraminer</td>\n",
       "      <td>Domaine Schoffit</td>\n",
       "    </tr>\n",
       "  </tbody>\n",
       "</table>\n",
       "<p>129971 rows × 13 columns</p>\n",
       "</div>"
      ],
      "text/plain": [
       "         country                                        description  \\\n",
       "0          Italy  Aromas include tropical fruit, broom, brimston...   \n",
       "1       Portugal  This is ripe and fruity, a wine that is smooth...   \n",
       "2             US  Tart and snappy, the flavors of lime flesh and...   \n",
       "3             US  Pineapple rind, lemon pith and orange blossom ...   \n",
       "4             US  Much like the regular bottling from 2012, this...   \n",
       "...          ...                                                ...   \n",
       "129966   Germany  Notes of honeysuckle and cantaloupe sweeten th...   \n",
       "129967        US  Citation is given as much as a decade of bottl...   \n",
       "129968    France  Well-drained gravel soil gives this wine its c...   \n",
       "129969    France  A dry style of Pinot Gris, this is crisp with ...   \n",
       "129970    France  Big, rich and off-dry, this is powered by inte...   \n",
       "\n",
       "                                   designation  points  price  \\\n",
       "0                                 Vulkà Bianco      87    NaN   \n",
       "1                                     Avidagos      87   15.0   \n",
       "2                                          NaN      87   14.0   \n",
       "3                         Reserve Late Harvest      87   13.0   \n",
       "4           Vintner's Reserve Wild Child Block      87   65.0   \n",
       "...                                        ...     ...    ...   \n",
       "129966  Brauneberger Juffer-Sonnenuhr Spätlese      90   28.0   \n",
       "129967                                     NaN      90   75.0   \n",
       "129968                                   Kritt      90   30.0   \n",
       "129969                                     NaN      90   32.0   \n",
       "129970           Lieu-dit Harth Cuvée Caroline      90   21.0   \n",
       "\n",
       "                 province             region_1           region_2  \\\n",
       "0       Sicily & Sardinia                 Etna                NaN   \n",
       "1                   Douro                  NaN                NaN   \n",
       "2                  Oregon    Willamette Valley  Willamette Valley   \n",
       "3                Michigan  Lake Michigan Shore                NaN   \n",
       "4                  Oregon    Willamette Valley  Willamette Valley   \n",
       "...                   ...                  ...                ...   \n",
       "129966              Mosel                  NaN                NaN   \n",
       "129967             Oregon               Oregon       Oregon Other   \n",
       "129968             Alsace               Alsace                NaN   \n",
       "129969             Alsace               Alsace                NaN   \n",
       "129970             Alsace               Alsace                NaN   \n",
       "\n",
       "               taster_name taster_twitter_handle  \\\n",
       "0            Kerin O’Keefe          @kerinokeefe   \n",
       "1               Roger Voss            @vossroger   \n",
       "2             Paul Gregutt           @paulgwine    \n",
       "3       Alexander Peartree                   NaN   \n",
       "4             Paul Gregutt           @paulgwine    \n",
       "...                    ...                   ...   \n",
       "129966  Anna Lee C. Iijima                   NaN   \n",
       "129967        Paul Gregutt           @paulgwine    \n",
       "129968          Roger Voss            @vossroger   \n",
       "129969          Roger Voss            @vossroger   \n",
       "129970          Roger Voss            @vossroger   \n",
       "\n",
       "                                                    title         variety  \\\n",
       "0                       Nicosia 2013 Vulkà Bianco  (Etna)     White Blend   \n",
       "1           Quinta dos Avidagos 2011 Avidagos Red (Douro)  Portuguese Red   \n",
       "2           Rainstorm 2013 Pinot Gris (Willamette Valley)      Pinot Gris   \n",
       "3       St. Julian 2013 Reserve Late Harvest Riesling ...        Riesling   \n",
       "4       Sweet Cheeks 2012 Vintner's Reserve Wild Child...      Pinot Noir   \n",
       "...                                                   ...             ...   \n",
       "129966  Dr. H. Thanisch (Erben Müller-Burggraef) 2013 ...        Riesling   \n",
       "129967                  Citation 2004 Pinot Noir (Oregon)      Pinot Noir   \n",
       "129968  Domaine Gresser 2013 Kritt Gewurztraminer (Als...  Gewürztraminer   \n",
       "129969      Domaine Marcel Deiss 2012 Pinot Gris (Alsace)      Pinot Gris   \n",
       "129970  Domaine Schoffit 2012 Lieu-dit Harth Cuvée Car...  Gewürztraminer   \n",
       "\n",
       "                                          winery  \n",
       "0                                        Nicosia  \n",
       "1                            Quinta dos Avidagos  \n",
       "2                                      Rainstorm  \n",
       "3                                     St. Julian  \n",
       "4                                   Sweet Cheeks  \n",
       "...                                          ...  \n",
       "129966  Dr. H. Thanisch (Erben Müller-Burggraef)  \n",
       "129967                                  Citation  \n",
       "129968                           Domaine Gresser  \n",
       "129969                      Domaine Marcel Deiss  \n",
       "129970                          Domaine Schoffit  \n",
       "\n",
       "[129971 rows x 13 columns]"
      ]
     },
     "execution_count": 10,
     "metadata": {},
     "output_type": "execute_result"
    }
   ],
   "source": [
    "reviews"
   ]
  },
  {
   "cell_type": "markdown",
   "id": "e4a7aeff",
   "metadata": {
    "papermill": {
     "duration": 0.016802,
     "end_time": "2024-05-08T15:09:11.006163",
     "exception": false,
     "start_time": "2024-05-08T15:09:10.989361",
     "status": "completed"
    },
    "tags": []
   },
   "source": [
    "## 5.\n",
    "Create a `Series` whose index is reviewers and whose values is the average review score given out by that reviewer. Hint: you will need the `taster_name` and `points` columns."
   ]
  },
  {
   "cell_type": "code",
   "execution_count": 11,
   "id": "00eb4e98",
   "metadata": {
    "execution": {
     "iopub.execute_input": "2024-05-08T15:09:11.036151Z",
     "iopub.status.busy": "2024-05-08T15:09:11.035463Z",
     "iopub.status.idle": "2024-05-08T15:09:11.069350Z",
     "shell.execute_reply": "2024-05-08T15:09:11.068511Z"
    },
    "papermill": {
     "duration": 0.049972,
     "end_time": "2024-05-08T15:09:11.071775",
     "exception": false,
     "start_time": "2024-05-08T15:09:11.021803",
     "status": "completed"
    },
    "tags": []
   },
   "outputs": [
    {
     "data": {
      "application/javascript": [
       "parent.postMessage({\"jupyterEvent\": \"custom.exercise_interaction\", \"data\": {\"outcomeType\": 1, \"valueTowardsCompletion\": 0.16666666666666666, \"interactionType\": 1, \"questionType\": 1, \"questionId\": \"5_ReviewerMeanRatings\", \"learnToolsVersion\": \"0.3.4\", \"failureMessage\": \"\", \"exceptionClass\": \"\", \"trace\": \"\"}}, \"*\")"
      ],
      "text/plain": [
       "<IPython.core.display.Javascript object>"
      ]
     },
     "metadata": {},
     "output_type": "display_data"
    },
    {
     "data": {
      "text/markdown": [
       "<span style=\"color:#33cc33\">Correct</span>"
      ],
      "text/plain": [
       "Correct"
      ]
     },
     "metadata": {},
     "output_type": "display_data"
    }
   ],
   "source": [
    "reviewer_mean_ratings = reviews.groupby(\"taster_name\")[\"points\"].mean()\n",
    "\n",
    "# Check your answer\n",
    "q5.check()"
   ]
  },
  {
   "cell_type": "code",
   "execution_count": 12,
   "id": "770968c4",
   "metadata": {
    "execution": {
     "iopub.execute_input": "2024-05-08T15:09:11.099408Z",
     "iopub.status.busy": "2024-05-08T15:09:11.098293Z",
     "iopub.status.idle": "2024-05-08T15:09:11.106488Z",
     "shell.execute_reply": "2024-05-08T15:09:11.105399Z"
    },
    "papermill": {
     "duration": 0.024524,
     "end_time": "2024-05-08T15:09:11.108827",
     "exception": false,
     "start_time": "2024-05-08T15:09:11.084303",
     "status": "completed"
    },
    "tags": []
   },
   "outputs": [
    {
     "data": {
      "application/javascript": [
       "parent.postMessage({\"jupyterEvent\": \"custom.exercise_interaction\", \"data\": {\"interactionType\": 2, \"questionType\": 1, \"questionId\": \"5_ReviewerMeanRatings\", \"learnToolsVersion\": \"0.3.4\", \"valueTowardsCompletion\": 0.0, \"failureMessage\": \"\", \"exceptionClass\": \"\", \"trace\": \"\", \"outcomeType\": 4}}, \"*\")"
      ],
      "text/plain": [
       "<IPython.core.display.Javascript object>"
      ]
     },
     "metadata": {},
     "output_type": "display_data"
    },
    {
     "data": {
      "text/markdown": [
       "<span style=\"color:#3366cc\">Hint:</span> Use `mean()`."
      ],
      "text/plain": [
       "Hint: Use `mean()`."
      ]
     },
     "metadata": {},
     "output_type": "display_data"
    }
   ],
   "source": [
    "q5.hint()\n",
    "#q5.solution()"
   ]
  },
  {
   "cell_type": "markdown",
   "id": "a6b20677",
   "metadata": {
    "papermill": {
     "duration": 0.015164,
     "end_time": "2024-05-08T15:09:11.137273",
     "exception": false,
     "start_time": "2024-05-08T15:09:11.122109",
     "status": "completed"
    },
    "tags": []
   },
   "source": [
    "Are there significant differences in the average scores assigned by the various reviewers? Run the cell below to use the `describe()` method to see a summary of the range of values."
   ]
  },
  {
   "cell_type": "code",
   "execution_count": 13,
   "id": "b0eb4c53",
   "metadata": {
    "execution": {
     "iopub.execute_input": "2024-05-08T15:09:11.172667Z",
     "iopub.status.busy": "2024-05-08T15:09:11.171585Z",
     "iopub.status.idle": "2024-05-08T15:09:11.185252Z",
     "shell.execute_reply": "2024-05-08T15:09:11.184087Z"
    },
    "papermill": {
     "duration": 0.035472,
     "end_time": "2024-05-08T15:09:11.187886",
     "exception": false,
     "start_time": "2024-05-08T15:09:11.152414",
     "status": "completed"
    },
    "tags": []
   },
   "outputs": [
    {
     "data": {
      "text/plain": [
       "count    19.000000\n",
       "mean     88.233026\n",
       "std       1.243610\n",
       "min      85.855422\n",
       "25%      87.323501\n",
       "50%      88.536235\n",
       "75%      88.975256\n",
       "max      90.562551\n",
       "Name: points, dtype: float64"
      ]
     },
     "execution_count": 13,
     "metadata": {},
     "output_type": "execute_result"
    }
   ],
   "source": [
    "reviewer_mean_ratings.describe()"
   ]
  },
  {
   "cell_type": "markdown",
   "id": "9a5e1a49",
   "metadata": {
    "papermill": {
     "duration": 0.01498,
     "end_time": "2024-05-08T15:09:11.217368",
     "exception": false,
     "start_time": "2024-05-08T15:09:11.202388",
     "status": "completed"
    },
    "tags": []
   },
   "source": [
    "## 6.\n",
    "What combination of countries and varieties are most common? Create a `Series` whose index is a `MultiIndex`of `{country, variety}` pairs. For example, a pinot noir produced in the US should map to `{\"US\", \"Pinot Noir\"}`. Sort the values in the `Series` in descending order based on wine count."
   ]
  },
  {
   "cell_type": "code",
   "execution_count": 14,
   "id": "2ec2bb14",
   "metadata": {
    "execution": {
     "iopub.execute_input": "2024-05-08T15:09:11.246840Z",
     "iopub.status.busy": "2024-05-08T15:09:11.245803Z",
     "iopub.status.idle": "2024-05-08T15:09:11.312642Z",
     "shell.execute_reply": "2024-05-08T15:09:11.311411Z"
    },
    "papermill": {
     "duration": 0.084605,
     "end_time": "2024-05-08T15:09:11.315251",
     "exception": false,
     "start_time": "2024-05-08T15:09:11.230646",
     "status": "completed"
    },
    "tags": []
   },
   "outputs": [
    {
     "data": {
      "application/javascript": [
       "parent.postMessage({\"jupyterEvent\": \"custom.exercise_interaction\", \"data\": {\"outcomeType\": 1, \"valueTowardsCompletion\": 0.16666666666666666, \"interactionType\": 1, \"questionType\": 1, \"questionId\": \"6_GroupbyCountryVariety\", \"learnToolsVersion\": \"0.3.4\", \"failureMessage\": \"\", \"exceptionClass\": \"\", \"trace\": \"\"}}, \"*\")"
      ],
      "text/plain": [
       "<IPython.core.display.Javascript object>"
      ]
     },
     "metadata": {},
     "output_type": "display_data"
    },
    {
     "data": {
      "text/markdown": [
       "<span style=\"color:#33cc33\">Correct</span>"
      ],
      "text/plain": [
       "Correct"
      ]
     },
     "metadata": {},
     "output_type": "display_data"
    }
   ],
   "source": [
    "country_variety_counts = reviews.groupby([\"country\",\"variety\"]).size().sort_values(ascending=False)\n",
    "\n",
    "# Check your answer\n",
    "q6.check()"
   ]
  },
  {
   "cell_type": "code",
   "execution_count": 15,
   "id": "54cd0d52",
   "metadata": {
    "execution": {
     "iopub.execute_input": "2024-05-08T15:09:11.343991Z",
     "iopub.status.busy": "2024-05-08T15:09:11.343537Z",
     "iopub.status.idle": "2024-05-08T15:09:11.353828Z",
     "shell.execute_reply": "2024-05-08T15:09:11.352308Z"
    },
    "papermill": {
     "duration": 0.028031,
     "end_time": "2024-05-08T15:09:11.356622",
     "exception": false,
     "start_time": "2024-05-08T15:09:11.328591",
     "status": "completed"
    },
    "tags": []
   },
   "outputs": [
    {
     "data": {
      "application/javascript": [
       "parent.postMessage({\"jupyterEvent\": \"custom.exercise_interaction\", \"data\": {\"interactionType\": 2, \"questionType\": 1, \"questionId\": \"6_GroupbyCountryVariety\", \"learnToolsVersion\": \"0.3.4\", \"valueTowardsCompletion\": 0.0, \"failureMessage\": \"\", \"exceptionClass\": \"\", \"trace\": \"\", \"outcomeType\": 4}}, \"*\")"
      ],
      "text/plain": [
       "<IPython.core.display.Javascript object>"
      ]
     },
     "metadata": {},
     "output_type": "display_data"
    },
    {
     "data": {
      "text/markdown": [
       "<span style=\"color:#3366cc\">Hint:</span> Use `groupby()`, and provide a list of columns to group by.  You may also find `size()` and `sort_values()` to be useful!"
      ],
      "text/plain": [
       "Hint: Use `groupby()`, and provide a list of columns to group by.  You may also find `size()` and `sort_values()` to be useful!"
      ]
     },
     "metadata": {},
     "output_type": "display_data"
    }
   ],
   "source": [
    "q6.hint()\n",
    "#q6.solution()"
   ]
  },
  {
   "cell_type": "markdown",
   "id": "0049c415",
   "metadata": {
    "papermill": {
     "duration": 0.015177,
     "end_time": "2024-05-08T15:09:11.385685",
     "exception": false,
     "start_time": "2024-05-08T15:09:11.370508",
     "status": "completed"
    },
    "tags": []
   },
   "source": [
    "# Keep going\n",
    "\n",
    "Move on to the [**data types and missing data**](https://www.kaggle.com/residentmario/data-types-and-missing-values)."
   ]
  },
  {
   "cell_type": "markdown",
   "id": "99377f7c",
   "metadata": {
    "papermill": {
     "duration": 0.01349,
     "end_time": "2024-05-08T15:09:11.413037",
     "exception": false,
     "start_time": "2024-05-08T15:09:11.399547",
     "status": "completed"
    },
    "tags": []
   },
   "source": [
    "---\n",
    "\n",
    "\n",
    "\n",
    "\n",
    "*Have questions or comments? Visit the [course discussion forum](https://www.kaggle.com/learn/pandas/discussion) to chat with other learners.*"
   ]
  }
 ],
 "metadata": {
  "kaggle": {
   "accelerator": "none",
   "dataSources": [
    {
     "datasetId": 655,
     "sourceId": 1252,
     "sourceType": "datasetVersion"
    },
    {
     "datasetId": 2321,
     "sourceId": 3919,
     "sourceType": "datasetVersion"
    },
    {
     "datasetId": 2894,
     "sourceId": 4877,
     "sourceType": "datasetVersion"
    },
    {
     "datasetId": 3491,
     "sourceId": 5624,
     "sourceType": "datasetVersion"
    },
    {
     "datasetId": 1442,
     "sourceId": 8172,
     "sourceType": "datasetVersion"
    },
    {
     "datasetId": 9366,
     "sourceId": 13206,
     "sourceType": "datasetVersion"
    },
    {
     "datasetId": 179555,
     "sourceId": 403916,
     "sourceType": "datasetVersion"
    },
    {
     "datasetId": 4549,
     "sourceId": 466349,
     "sourceType": "datasetVersion"
    },
    {
     "datasetId": 2478,
     "sourceId": 1151655,
     "sourceType": "datasetVersion"
    },
    {
     "datasetId": 10128,
     "sourceId": 5438389,
     "sourceType": "datasetVersion"
    }
   ],
   "isGpuEnabled": false,
   "isInternetEnabled": false,
   "language": "python",
   "sourceType": "notebook"
  },
  "kernelspec": {
   "display_name": "Python 3",
   "language": "python",
   "name": "python3"
  },
  "language_info": {
   "codemirror_mode": {
    "name": "ipython",
    "version": 3
   },
   "file_extension": ".py",
   "mimetype": "text/x-python",
   "name": "python",
   "nbconvert_exporter": "python",
   "pygments_lexer": "ipython3",
   "version": "3.10.13"
  },
  "papermill": {
   "default_parameters": {},
   "duration": 9.699828,
   "end_time": "2024-05-08T15:09:11.947398",
   "environment_variables": {},
   "exception": null,
   "input_path": "__notebook__.ipynb",
   "output_path": "__notebook__.ipynb",
   "parameters": {},
   "start_time": "2024-05-08T15:09:02.247570",
   "version": "2.5.0"
  }
 },
 "nbformat": 4,
 "nbformat_minor": 5
}
