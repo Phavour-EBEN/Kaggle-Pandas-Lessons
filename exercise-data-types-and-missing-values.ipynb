{
 "cells": [
  {
   "cell_type": "markdown",
   "id": "060452cd",
   "metadata": {
    "papermill": {
     "duration": 0.006618,
     "end_time": "2024-05-08T17:11:18.092326",
     "exception": false,
     "start_time": "2024-05-08T17:11:18.085708",
     "status": "completed"
    },
    "tags": []
   },
   "source": [
    "**This notebook is an exercise in the [Pandas](https://www.kaggle.com/learn/pandas) course.  You can reference the tutorial at [this link](https://www.kaggle.com/residentmario/data-types-and-missing-values).**\n",
    "\n",
    "---\n"
   ]
  },
  {
   "cell_type": "markdown",
   "id": "2d5d453f",
   "metadata": {
    "papermill": {
     "duration": 0.005651,
     "end_time": "2024-05-08T17:11:18.104171",
     "exception": false,
     "start_time": "2024-05-08T17:11:18.098520",
     "status": "completed"
    },
    "tags": []
   },
   "source": [
    "# Introduction\n",
    "\n",
    "Run the following cell to load your data and some utility functions."
   ]
  },
  {
   "cell_type": "code",
   "execution_count": 1,
   "id": "bdd64a22",
   "metadata": {
    "execution": {
     "iopub.execute_input": "2024-05-08T17:11:18.117835Z",
     "iopub.status.busy": "2024-05-08T17:11:18.117441Z",
     "iopub.status.idle": "2024-05-08T17:11:22.090591Z",
     "shell.execute_reply": "2024-05-08T17:11:22.089438Z"
    },
    "papermill": {
     "duration": 3.983414,
     "end_time": "2024-05-08T17:11:22.093461",
     "exception": false,
     "start_time": "2024-05-08T17:11:18.110047",
     "status": "completed"
    },
    "tags": []
   },
   "outputs": [
    {
     "name": "stdout",
     "output_type": "stream",
     "text": [
      "Setup complete.\n"
     ]
    }
   ],
   "source": [
    "import pandas as pd\n",
    "\n",
    "reviews = pd.read_csv(\"../input/wine-reviews/winemag-data-130k-v2.csv\", index_col=0)\n",
    "\n",
    "from learntools.core import binder; binder.bind(globals())\n",
    "from learntools.pandas.data_types_and_missing_data import *\n",
    "print(\"Setup complete.\")"
   ]
  },
  {
   "cell_type": "markdown",
   "id": "0bb53c01",
   "metadata": {
    "papermill": {
     "duration": 0.005801,
     "end_time": "2024-05-08T17:11:22.105433",
     "exception": false,
     "start_time": "2024-05-08T17:11:22.099632",
     "status": "completed"
    },
    "tags": []
   },
   "source": [
    "# Exercises"
   ]
  },
  {
   "cell_type": "markdown",
   "id": "407f1ccf",
   "metadata": {
    "papermill": {
     "duration": 0.00578,
     "end_time": "2024-05-08T17:11:22.117668",
     "exception": false,
     "start_time": "2024-05-08T17:11:22.111888",
     "status": "completed"
    },
    "tags": []
   },
   "source": [
    "## 1. \n",
    "What is the data type of the `points` column in the dataset?"
   ]
  },
  {
   "cell_type": "code",
   "execution_count": 2,
   "id": "eff29fd9",
   "metadata": {
    "execution": {
     "iopub.execute_input": "2024-05-08T17:11:22.131629Z",
     "iopub.status.busy": "2024-05-08T17:11:22.131200Z",
     "iopub.status.idle": "2024-05-08T17:11:22.142501Z",
     "shell.execute_reply": "2024-05-08T17:11:22.141298Z"
    },
    "papermill": {
     "duration": 0.021372,
     "end_time": "2024-05-08T17:11:22.145170",
     "exception": false,
     "start_time": "2024-05-08T17:11:22.123798",
     "status": "completed"
    },
    "tags": []
   },
   "outputs": [
    {
     "data": {
      "application/javascript": [
       "parent.postMessage({\"jupyterEvent\": \"custom.exercise_interaction\", \"data\": {\"outcomeType\": 1, \"valueTowardsCompletion\": 0.25, \"interactionType\": 1, \"questionType\": 1, \"questionId\": \"1_PointsDtype\", \"learnToolsVersion\": \"0.3.4\", \"failureMessage\": \"\", \"exceptionClass\": \"\", \"trace\": \"\"}}, \"*\")"
      ],
      "text/plain": [
       "<IPython.core.display.Javascript object>"
      ]
     },
     "metadata": {},
     "output_type": "display_data"
    },
    {
     "data": {
      "text/markdown": [
       "<span style=\"color:#33cc33\">Correct</span>"
      ],
      "text/plain": [
       "Correct"
      ]
     },
     "metadata": {},
     "output_type": "display_data"
    }
   ],
   "source": [
    "# Your code here\n",
    "dtype = reviews.points.dtype\n",
    "\n",
    "# Check your answer\n",
    "q1.check()"
   ]
  },
  {
   "cell_type": "code",
   "execution_count": 3,
   "id": "7b46c3b2",
   "metadata": {
    "execution": {
     "iopub.execute_input": "2024-05-08T17:11:22.160238Z",
     "iopub.status.busy": "2024-05-08T17:11:22.159880Z",
     "iopub.status.idle": "2024-05-08T17:11:22.168570Z",
     "shell.execute_reply": "2024-05-08T17:11:22.167407Z"
    },
    "papermill": {
     "duration": 0.019179,
     "end_time": "2024-05-08T17:11:22.170930",
     "exception": false,
     "start_time": "2024-05-08T17:11:22.151751",
     "status": "completed"
    },
    "tags": []
   },
   "outputs": [
    {
     "data": {
      "application/javascript": [
       "parent.postMessage({\"jupyterEvent\": \"custom.exercise_interaction\", \"data\": {\"interactionType\": 2, \"questionType\": 1, \"questionId\": \"1_PointsDtype\", \"learnToolsVersion\": \"0.3.4\", \"valueTowardsCompletion\": 0.0, \"failureMessage\": \"\", \"exceptionClass\": \"\", \"trace\": \"\", \"outcomeType\": 4}}, \"*\")"
      ],
      "text/plain": [
       "<IPython.core.display.Javascript object>"
      ]
     },
     "metadata": {},
     "output_type": "display_data"
    },
    {
     "data": {
      "text/markdown": [
       "<span style=\"color:#3366cc\">Hint:</span> `dtype` is an attribute of a DataFrame or Series."
      ],
      "text/plain": [
       "Hint: `dtype` is an attribute of a DataFrame or Series."
      ]
     },
     "metadata": {},
     "output_type": "display_data"
    }
   ],
   "source": [
    "q1.hint()\n",
    "#q1.solution()"
   ]
  },
  {
   "cell_type": "markdown",
   "id": "104d6002",
   "metadata": {
    "papermill": {
     "duration": 0.006404,
     "end_time": "2024-05-08T17:11:22.184167",
     "exception": false,
     "start_time": "2024-05-08T17:11:22.177763",
     "status": "completed"
    },
    "tags": []
   },
   "source": [
    "## 2. \n",
    "Create a Series from entries in the `points` column, but convert the entries to strings. Hint: strings are `str` in native Python."
   ]
  },
  {
   "cell_type": "code",
   "execution_count": 4,
   "id": "76fa6780",
   "metadata": {
    "execution": {
     "iopub.execute_input": "2024-05-08T17:11:22.199555Z",
     "iopub.status.busy": "2024-05-08T17:11:22.199162Z",
     "iopub.status.idle": "2024-05-08T17:11:22.272145Z",
     "shell.execute_reply": "2024-05-08T17:11:22.271060Z"
    },
    "papermill": {
     "duration": 0.083502,
     "end_time": "2024-05-08T17:11:22.274584",
     "exception": false,
     "start_time": "2024-05-08T17:11:22.191082",
     "status": "completed"
    },
    "tags": []
   },
   "outputs": [
    {
     "data": {
      "application/javascript": [
       "parent.postMessage({\"jupyterEvent\": \"custom.exercise_interaction\", \"data\": {\"outcomeType\": 1, \"valueTowardsCompletion\": 0.25, \"interactionType\": 1, \"questionType\": 1, \"questionId\": \"2_StrPoints\", \"learnToolsVersion\": \"0.3.4\", \"failureMessage\": \"\", \"exceptionClass\": \"\", \"trace\": \"\"}}, \"*\")"
      ],
      "text/plain": [
       "<IPython.core.display.Javascript object>"
      ]
     },
     "metadata": {},
     "output_type": "display_data"
    },
    {
     "data": {
      "text/markdown": [
       "<span style=\"color:#33cc33\">Correct</span>"
      ],
      "text/plain": [
       "Correct"
      ]
     },
     "metadata": {},
     "output_type": "display_data"
    }
   ],
   "source": [
    "point_strings = reviews.points.astype(str)\n",
    "\n",
    "# Check your answer\n",
    "q2.check()"
   ]
  },
  {
   "cell_type": "code",
   "execution_count": 5,
   "id": "8c7992f2",
   "metadata": {
    "execution": {
     "iopub.execute_input": "2024-05-08T17:11:22.290605Z",
     "iopub.status.busy": "2024-05-08T17:11:22.290192Z",
     "iopub.status.idle": "2024-05-08T17:11:22.294587Z",
     "shell.execute_reply": "2024-05-08T17:11:22.293537Z"
    },
    "papermill": {
     "duration": 0.01514,
     "end_time": "2024-05-08T17:11:22.296911",
     "exception": false,
     "start_time": "2024-05-08T17:11:22.281771",
     "status": "completed"
    },
    "tags": []
   },
   "outputs": [],
   "source": [
    "#q2.hint()\n",
    "#q2.solution()"
   ]
  },
  {
   "cell_type": "markdown",
   "id": "7a12fb78",
   "metadata": {
    "papermill": {
     "duration": 0.006962,
     "end_time": "2024-05-08T17:11:22.311094",
     "exception": false,
     "start_time": "2024-05-08T17:11:22.304132",
     "status": "completed"
    },
    "tags": []
   },
   "source": [
    "## 3.\n",
    "Sometimes the price column is null. How many reviews in the dataset are missing a price?"
   ]
  },
  {
   "cell_type": "code",
   "execution_count": 6,
   "id": "db901002",
   "metadata": {
    "execution": {
     "iopub.execute_input": "2024-05-08T17:11:22.327044Z",
     "iopub.status.busy": "2024-05-08T17:11:22.326662Z",
     "iopub.status.idle": "2024-05-08T17:11:22.336448Z",
     "shell.execute_reply": "2024-05-08T17:11:22.335411Z"
    },
    "papermill": {
     "duration": 0.020533,
     "end_time": "2024-05-08T17:11:22.338733",
     "exception": false,
     "start_time": "2024-05-08T17:11:22.318200",
     "status": "completed"
    },
    "tags": []
   },
   "outputs": [
    {
     "data": {
      "application/javascript": [
       "parent.postMessage({\"jupyterEvent\": \"custom.exercise_interaction\", \"data\": {\"outcomeType\": 1, \"valueTowardsCompletion\": 0.25, \"interactionType\": 1, \"questionType\": 1, \"questionId\": \"3_CountMissingPrices\", \"learnToolsVersion\": \"0.3.4\", \"failureMessage\": \"\", \"exceptionClass\": \"\", \"trace\": \"\"}}, \"*\")"
      ],
      "text/plain": [
       "<IPython.core.display.Javascript object>"
      ]
     },
     "metadata": {},
     "output_type": "display_data"
    },
    {
     "data": {
      "text/markdown": [
       "<span style=\"color:#33cc33\">Correct</span>"
      ],
      "text/plain": [
       "Correct"
      ]
     },
     "metadata": {},
     "output_type": "display_data"
    }
   ],
   "source": [
    "n_missing_prices = reviews[\"price\"].isnull().sum()\n",
    "\n",
    "# Check your answer\n",
    "q3.check()"
   ]
  },
  {
   "cell_type": "code",
   "execution_count": 7,
   "id": "9f74a3f8",
   "metadata": {
    "execution": {
     "iopub.execute_input": "2024-05-08T17:11:22.355941Z",
     "iopub.status.busy": "2024-05-08T17:11:22.355569Z",
     "iopub.status.idle": "2024-05-08T17:11:22.359974Z",
     "shell.execute_reply": "2024-05-08T17:11:22.358911Z"
    },
    "papermill": {
     "duration": 0.016136,
     "end_time": "2024-05-08T17:11:22.362164",
     "exception": false,
     "start_time": "2024-05-08T17:11:22.346028",
     "status": "completed"
    },
    "tags": []
   },
   "outputs": [],
   "source": [
    "#q3.hint()\n",
    "#q3.solution()"
   ]
  },
  {
   "cell_type": "markdown",
   "id": "e9e9245b",
   "metadata": {
    "papermill": {
     "duration": 0.007213,
     "end_time": "2024-05-08T17:11:22.376910",
     "exception": false,
     "start_time": "2024-05-08T17:11:22.369697",
     "status": "completed"
    },
    "tags": []
   },
   "source": [
    "## 4.\n",
    "What are the most common wine-producing regions? Create a Series counting the number of times each value occurs in the `region_1` field. This field is often missing data, so replace missing values with `Unknown`. Sort in descending order.  Your output should look something like this:\n",
    "\n",
    "```\n",
    "Unknown                    21247\n",
    "Napa Valley                 4480\n",
    "                           ...  \n",
    "Bardolino Superiore            1\n",
    "Primitivo del Tarantino        1\n",
    "Name: region_1, Length: 1230, dtype: int64\n",
    "```"
   ]
  },
  {
   "cell_type": "code",
   "execution_count": 8,
   "id": "65484b72",
   "metadata": {
    "execution": {
     "iopub.execute_input": "2024-05-08T17:11:22.393456Z",
     "iopub.status.busy": "2024-05-08T17:11:22.393068Z",
     "iopub.status.idle": "2024-05-08T17:11:22.484776Z",
     "shell.execute_reply": "2024-05-08T17:11:22.483819Z"
    },
    "papermill": {
     "duration": 0.103002,
     "end_time": "2024-05-08T17:11:22.487344",
     "exception": false,
     "start_time": "2024-05-08T17:11:22.384342",
     "status": "completed"
    },
    "tags": []
   },
   "outputs": [
    {
     "data": {
      "application/javascript": [
       "parent.postMessage({\"jupyterEvent\": \"custom.exercise_interaction\", \"data\": {\"outcomeType\": 1, \"valueTowardsCompletion\": 0.25, \"interactionType\": 1, \"questionType\": 2, \"questionId\": \"4_ReviewsPerRegion\", \"learnToolsVersion\": \"0.3.4\", \"failureMessage\": \"\", \"exceptionClass\": \"\", \"trace\": \"\"}}, \"*\")"
      ],
      "text/plain": [
       "<IPython.core.display.Javascript object>"
      ]
     },
     "metadata": {},
     "output_type": "display_data"
    },
    {
     "data": {
      "text/markdown": [
       "<span style=\"color:#33cc33\">Correct</span>"
      ],
      "text/plain": [
       "Correct"
      ]
     },
     "metadata": {},
     "output_type": "display_data"
    }
   ],
   "source": [
    "reviews[\"region_1\"] = reviews[\"region_1\"].fillna(\"Unknown\")\n",
    "\n",
    "reviews_per_region = reviews[\"region_1\"].value_counts().sort_values(ascending=False)\n",
    "\n",
    "# Check your answer\n",
    "q4.check()"
   ]
  },
  {
   "cell_type": "code",
   "execution_count": 9,
   "id": "6f64c215",
   "metadata": {
    "execution": {
     "iopub.execute_input": "2024-05-08T17:11:22.505699Z",
     "iopub.status.busy": "2024-05-08T17:11:22.505042Z",
     "iopub.status.idle": "2024-05-08T17:11:22.509656Z",
     "shell.execute_reply": "2024-05-08T17:11:22.508434Z"
    },
    "papermill": {
     "duration": 0.016409,
     "end_time": "2024-05-08T17:11:22.512077",
     "exception": false,
     "start_time": "2024-05-08T17:11:22.495668",
     "status": "completed"
    },
    "tags": []
   },
   "outputs": [],
   "source": [
    "#q4.hint()\n",
    "#q4.solution()"
   ]
  },
  {
   "cell_type": "markdown",
   "id": "25259e80",
   "metadata": {
    "papermill": {
     "duration": 0.007669,
     "end_time": "2024-05-08T17:11:22.527769",
     "exception": false,
     "start_time": "2024-05-08T17:11:22.520100",
     "status": "completed"
    },
    "tags": []
   },
   "source": [
    "# Keep going\n",
    "\n",
    "Move on to **[renaming and combining](https://www.kaggle.com/residentmario/renaming-and-combining)**."
   ]
  },
  {
   "cell_type": "markdown",
   "id": "3d361e86",
   "metadata": {
    "papermill": {
     "duration": 0.007642,
     "end_time": "2024-05-08T17:11:22.543411",
     "exception": false,
     "start_time": "2024-05-08T17:11:22.535769",
     "status": "completed"
    },
    "tags": []
   },
   "source": [
    "---\n",
    "\n",
    "\n",
    "\n",
    "\n",
    "*Have questions or comments? Visit the [course discussion forum](https://www.kaggle.com/learn/pandas/discussion) to chat with other learners.*"
   ]
  }
 ],
 "metadata": {
  "kaggle": {
   "accelerator": "none",
   "dataSources": [
    {
     "datasetId": 655,
     "sourceId": 1252,
     "sourceType": "datasetVersion"
    },
    {
     "datasetId": 2321,
     "sourceId": 3919,
     "sourceType": "datasetVersion"
    },
    {
     "datasetId": 2894,
     "sourceId": 4877,
     "sourceType": "datasetVersion"
    },
    {
     "datasetId": 3491,
     "sourceId": 5624,
     "sourceType": "datasetVersion"
    },
    {
     "datasetId": 1442,
     "sourceId": 8172,
     "sourceType": "datasetVersion"
    },
    {
     "datasetId": 9366,
     "sourceId": 13206,
     "sourceType": "datasetVersion"
    },
    {
     "datasetId": 179555,
     "sourceId": 403916,
     "sourceType": "datasetVersion"
    },
    {
     "datasetId": 4549,
     "sourceId": 466349,
     "sourceType": "datasetVersion"
    },
    {
     "datasetId": 2478,
     "sourceId": 1151655,
     "sourceType": "datasetVersion"
    },
    {
     "datasetId": 10128,
     "sourceId": 5438389,
     "sourceType": "datasetVersion"
    }
   ],
   "isGpuEnabled": false,
   "isInternetEnabled": false,
   "language": "python",
   "sourceType": "notebook"
  },
  "kernelspec": {
   "display_name": "Python 3",
   "language": "python",
   "name": "python3"
  },
  "language_info": {
   "codemirror_mode": {
    "name": "ipython",
    "version": 3
   },
   "file_extension": ".py",
   "mimetype": "text/x-python",
   "name": "python",
   "nbconvert_exporter": "python",
   "pygments_lexer": "ipython3",
   "version": "3.10.13"
  },
  "papermill": {
   "default_parameters": {},
   "duration": 7.944674,
   "end_time": "2024-05-08T17:11:23.072731",
   "environment_variables": {},
   "exception": null,
   "input_path": "__notebook__.ipynb",
   "output_path": "__notebook__.ipynb",
   "parameters": {},
   "start_time": "2024-05-08T17:11:15.128057",
   "version": "2.5.0"
  }
 },
 "nbformat": 4,
 "nbformat_minor": 5
}
